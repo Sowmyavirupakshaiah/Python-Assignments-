{
 "cells": [
  {
   "cell_type": "markdown",
   "id": "f9c4c148",
   "metadata": {},
   "source": [
    "# 1) What is the output of the following addition (+) operator"
   ]
  },
  {
   "cell_type": "code",
   "execution_count": 1,
   "id": "ee6d0f24",
   "metadata": {},
   "outputs": [
    {
     "name": "stdout",
     "output_type": "stream",
     "text": [
      "[10, 20, 30, 40]\n",
      "[10, 20, 30, 40]\n"
     ]
    }
   ],
   "source": [
    "a = [10, 20]\n",
    "b = a\n",
    "b += [30, 40]\n",
    "print(a)\n",
    "print(b)\n"
   ]
  },
  {
   "cell_type": "markdown",
   "id": "27c1260a",
   "metadata": {},
   "source": [
    "# 2) What is the output of print(2%6)"
   ]
  },
  {
   "cell_type": "markdown",
   "id": "b22ccbf6",
   "metadata": {},
   "source": [
    "a)\t  ValueError\n",
    "b)\t  0.33\n",
    "c)\t  2\n"
   ]
  },
  {
   "cell_type": "code",
   "execution_count": 2,
   "id": "0ff38de1",
   "metadata": {},
   "outputs": [
    {
     "name": "stdout",
     "output_type": "stream",
     "text": [
      "2\n"
     ]
    }
   ],
   "source": [
    "print(2%6)"
   ]
  },
  {
   "cell_type": "markdown",
   "id": "242211fa",
   "metadata": {},
   "source": [
    "Ans: c) 2"
   ]
  },
  {
   "cell_type": "markdown",
   "id": "b450697a",
   "metadata": {},
   "source": [
    "# 3) What is the output of the following code:"
   ]
  },
  {
   "cell_type": "code",
   "execution_count": 3,
   "id": "e9f5a596",
   "metadata": {},
   "outputs": [
    {
     "name": "stdout",
     "output_type": "stream",
     "text": [
      "False True True True\n"
     ]
    }
   ],
   "source": [
    "print(bool(0), bool(3.14159), bool(-3), bool(1.0+1j))"
   ]
  },
  {
   "cell_type": "markdown",
   "id": "75aa2ee8",
   "metadata": {},
   "source": [
    "Ans: b) False True True True"
   ]
  },
  {
   "cell_type": "markdown",
   "id": "eae366bd",
   "metadata": {},
   "source": [
    "# 4) What is the output of the expression print (-18 // 4)?"
   ]
  },
  {
   "cell_type": "code",
   "execution_count": 4,
   "id": "e4b12171",
   "metadata": {},
   "outputs": [
    {
     "name": "stdout",
     "output_type": "stream",
     "text": [
      "-5\n"
     ]
    }
   ],
   "source": [
    "print (-18 // 4)"
   ]
  },
  {
   "cell_type": "markdown",
   "id": "9fcd712e",
   "metadata": {},
   "source": [
    "# 5) What is the output of print (2 ** 3 ** 2)?"
   ]
  },
  {
   "cell_type": "code",
   "execution_count": 5,
   "id": "8f524a22",
   "metadata": {},
   "outputs": [
    {
     "name": "stdout",
     "output_type": "stream",
     "text": [
      "512\n"
     ]
    }
   ],
   "source": [
    "print (2 ** 3 ** 2)"
   ]
  },
  {
   "cell_type": "markdown",
   "id": "c1aec834",
   "metadata": {},
   "source": [
    "# 6) 4 is 100 in binary and 11 is 1011. What is the output of the following bitwise operators?"
   ]
  },
  {
   "cell_type": "code",
   "execution_count": 6,
   "id": "341a27a3",
   "metadata": {},
   "outputs": [
    {
     "name": "stdout",
     "output_type": "stream",
     "text": [
      "15\n",
      "1\n"
     ]
    }
   ],
   "source": [
    "a = 4\n",
    "b = 11\n",
    "print(a | b)\n",
    "print(a >> 2)"
   ]
  },
  {
   "cell_type": "markdown",
   "id": "6a825a43",
   "metadata": {},
   "source": [
    "# 7) What is the value of the following Python Expression?\n",
    "\n"
   ]
  },
  {
   "cell_type": "code",
   "execution_count": 7,
   "id": "d2cc998b",
   "metadata": {},
   "outputs": [
    {
     "name": "stdout",
     "output_type": "stream",
     "text": [
      "9.0\n"
     ]
    }
   ],
   "source": [
    "print(36 / 4)"
   ]
  },
  {
   "cell_type": "markdown",
   "id": "82e17a13",
   "metadata": {},
   "source": [
    "# 8) What is the output of the following assignment operator?"
   ]
  },
  {
   "cell_type": "code",
   "execution_count": 9,
   "id": "041de5ff",
   "metadata": {},
   "outputs": [
    {
     "ename": "SyntaxError",
     "evalue": "invalid syntax (Temp/ipykernel_4964/971796564.py, line 2)",
     "output_type": "error",
     "traceback": [
      "\u001b[1;36m  File \u001b[1;32m\"C:\\Users\\SOWMYA~1\\AppData\\Local\\Temp/ipykernel_4964/971796564.py\"\u001b[1;36m, line \u001b[1;32m2\u001b[0m\n\u001b[1;33m    x = y += 2\u001b[0m\n\u001b[1;37m          ^\u001b[0m\n\u001b[1;31mSyntaxError\u001b[0m\u001b[1;31m:\u001b[0m invalid syntax\n"
     ]
    }
   ],
   "source": [
    "y = 10\n",
    "x = y += 2\n",
    "print(x)"
   ]
  },
  {
   "cell_type": "markdown",
   "id": "0c61d264",
   "metadata": {},
   "source": [
    "# 9) What is the output of print (2 * 3 ** 3 * 4)"
   ]
  },
  {
   "cell_type": "code",
   "execution_count": 10,
   "id": "c33a72ce",
   "metadata": {},
   "outputs": [
    {
     "name": "stdout",
     "output_type": "stream",
     "text": [
      "216\n"
     ]
    }
   ],
   "source": [
    "print (2 * 3 ** 3 * 4)"
   ]
  },
  {
   "cell_type": "markdown",
   "id": "aa2d28c4",
   "metadata": {},
   "source": [
    "# 10) Which of the following operators has the highest precedence?"
   ]
  },
  {
   "cell_type": "markdown",
   "id": "6ac48b89",
   "metadata": {},
   "source": [
    "Ans: Parentheses :The precedence order in Python follows PEDMAS, i.e. Parentheses, Exponential, Division, Multiplication, Addition, Subtraction. "
   ]
  },
  {
   "cell_type": "markdown",
   "id": "4fe1402b",
   "metadata": {},
   "source": [
    "# 11) What is the output of print(10 - 4 * 2) ?"
   ]
  },
  {
   "cell_type": "code",
   "execution_count": 11,
   "id": "1fedad10",
   "metadata": {},
   "outputs": [
    {
     "name": "stdout",
     "output_type": "stream",
     "text": [
      "2\n"
     ]
    }
   ],
   "source": [
    "print(10 - 4 * 2)"
   ]
  },
  {
   "cell_type": "markdown",
   "id": "f911d2bf",
   "metadata": {},
   "source": [
    "# 12) What is the output of the following code:"
   ]
  },
  {
   "cell_type": "code",
   "execution_count": 12,
   "id": "be8e8725",
   "metadata": {},
   "outputs": [
    {
     "name": "stdout",
     "output_type": "stream",
     "text": [
      "36\n",
      "3\n"
     ]
    }
   ],
   "source": [
    "x = 6\n",
    "y = 2\n",
    "print(x ** y)\n",
    "print(x // y)"
   ]
  },
  {
   "cell_type": "code",
   "execution_count": null,
   "id": "4dbe05e7",
   "metadata": {},
   "outputs": [],
   "source": []
  }
 ],
 "metadata": {
  "kernelspec": {
   "display_name": "Python 3 (ipykernel)",
   "language": "python",
   "name": "python3"
  },
  "language_info": {
   "codemirror_mode": {
    "name": "ipython",
    "version": 3
   },
   "file_extension": ".py",
   "mimetype": "text/x-python",
   "name": "python",
   "nbconvert_exporter": "python",
   "pygments_lexer": "ipython3",
   "version": "3.9.7"
  }
 },
 "nbformat": 4,
 "nbformat_minor": 5
}
