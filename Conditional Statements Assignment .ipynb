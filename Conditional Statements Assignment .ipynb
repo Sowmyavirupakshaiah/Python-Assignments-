{
 "cells": [
  {
   "cell_type": "markdown",
   "id": "d1ccb5bc",
   "metadata": {},
   "source": [
    "# 1)\tWhat is the output of the following if statement"
   ]
  },
  {
   "cell_type": "code",
   "execution_count": 14,
   "id": "2872ca22",
   "metadata": {},
   "outputs": [
    {
     "name": "stdout",
     "output_type": "stream",
     "text": [
      "True\n"
     ]
    }
   ],
   "source": [
    "a, b = 12, 5\n",
    "if a + b:\n",
    "    print('True')\n",
    "else:\n",
    "  print('False')"
   ]
  },
  {
   "cell_type": "markdown",
   "id": "7d78b108",
   "metadata": {},
   "source": [
    "# 2)\tGiven the nested if-else structure below, what will be the value of x after code execution completes"
   ]
  },
  {
   "cell_type": "code",
   "execution_count": 15,
   "id": "0759fb8a",
   "metadata": {},
   "outputs": [
    {
     "name": "stdout",
     "output_type": "stream",
     "text": [
      "2\n"
     ]
    }
   ],
   "source": [
    "x = 0\n",
    "a = 0\n",
    "b = -5\n",
    "if a > 0:\n",
    "    if b < 0: \n",
    "        x = x + 5 \n",
    "    elif a > 5:\n",
    "        x = x + 4\n",
    "    else:\n",
    "        x = x + 3\n",
    "else:\n",
    "    x = x + 2\n",
    "print(x)"
   ]
  },
  {
   "cell_type": "markdown",
   "id": "5a2f79fa",
   "metadata": {},
   "source": [
    "# 3)\tGiven the nested if-else below, what will be the value x when the code executed successfully"
   ]
  },
  {
   "cell_type": "code",
   "execution_count": 16,
   "id": "a07e6b7f",
   "metadata": {},
   "outputs": [
    {
     "name": "stdout",
     "output_type": "stream",
     "text": [
      "3\n"
     ]
    }
   ],
   "source": [
    "x = 0\n",
    "a = 5\n",
    "b = 5\n",
    "if a > 0:\n",
    "    if b < 0: \n",
    "        x = x + 5 \n",
    "    elif a > 5:\n",
    "        x = x + 4\n",
    "    else:\n",
    "        x = x + 3\n",
    "else:\n",
    "    x = x + 2\n",
    "print(x)"
   ]
  },
  {
   "cell_type": "markdown",
   "id": "a21f44f5",
   "metadata": {},
   "source": [
    "# 4)\tA school has following rules for grading system:\n",
    "a. Below 25 - F\n",
    "b. 25 to 45 - E\n",
    "c. 45 to 50 - D\n",
    "d. 50 to 60 - C\n",
    "e. 60 to 80 - B\n",
    "f. Above 80 - A\n",
    "Ask user to enter marks and print the corresponding grade\n"
   ]
  },
  {
   "cell_type": "code",
   "execution_count": 1,
   "id": "76485f78",
   "metadata": {},
   "outputs": [
    {
     "name": "stdout",
     "output_type": "stream",
     "text": [
      "enter marks83\n",
      " Grade A\n"
     ]
    }
   ],
   "source": [
    "m=int(input(\"enter marks\"))\n",
    "if(m<25):\n",
    "    print(\" Grade F\")\n",
    "elif(m>=25 and m<45):\n",
    "    print(\" Grade E\")\n",
    "elif(m>=45 and m<50):\n",
    "    print(\" Grade D\")\n",
    "elif(m>=50 and m<60):\n",
    "    print(\" Grade C\")\n",
    "elif(m>=60 and m<80):\n",
    "    print(\" Grade B\")\n",
    "elif(m>=80):   #else:\n",
    "    print(\" Grade A\")"
   ]
  },
  {
   "cell_type": "markdown",
   "id": "c9bc4c65",
   "metadata": {},
   "source": [
    "# 5)\tA shop will give discount of 10% if the cost of purchased quantity is more than 1000.\n",
    "Ask user for quantity\n",
    "Suppose, one unit will cost 100.\n",
    "Judge and print total cost for user.\n"
   ]
  },
  {
   "cell_type": "code",
   "execution_count": 6,
   "id": "3e372156",
   "metadata": {},
   "outputs": [
    {
     "name": "stdout",
     "output_type": "stream",
     "text": [
      "enter the quantity number:25\n",
      "Congratulation!!! Here is your after discount Price: 2250.0\n"
     ]
    }
   ],
   "source": [
    "quantity = int(input(\"enter the quantity number:\"))\n",
    "unit = 100\n",
    "discount_price_range = 1000\n",
    "priceOfyour = quantity * unit\n",
    "TenpercentofyourPrice = ((10 * priceOfyour)/100) \n",
    "afterdiscountPrice = priceOfyour - TenpercentofyourPrice\n",
    "if priceOfyour <= 1000:\n",
    "    print(\"Sorry. There is no discout you will get.\")\n",
    "else:\n",
    "    print(\"Congratulation!!! Here is your after discount Price:\", afterdiscountPrice)\n"
   ]
  },
  {
   "cell_type": "markdown",
   "id": "13d68d23",
   "metadata": {},
   "source": [
    "# 6)\tWrite a program to print absolute value of a number entered by user. E.g.-\n",
    "INPUT: 1        OUTPUT: 1\n",
    "INPUT: -1        OUTPUT: 1\n"
   ]
  },
  {
   "cell_type": "code",
   "execution_count": 8,
   "id": "0ab1d13a",
   "metadata": {},
   "outputs": [
    {
     "name": "stdout",
     "output_type": "stream",
     "text": [
      "-5\n",
      "5\n"
     ]
    }
   ],
   "source": [
    "x=float(input())\n",
    "x=abs(x)\n",
    "if(x%1.0):          #when x is a floating point number\n",
    "    print(x)\n",
    "else:\n",
    "    print(int(x))   #when x is an integer"
   ]
  },
  {
   "cell_type": "markdown",
   "id": "9f746185",
   "metadata": {},
   "source": [
    "# 7)\tWrite a Python program that accepts a string and calculate the number of digits and letters.\n",
    "Sample Data : Python 3.2\n",
    "Expected Output :\n",
    "Letters 6\n",
    "Digits 2\n"
   ]
  },
  {
   "cell_type": "code",
   "execution_count": 12,
   "id": "4e265836",
   "metadata": {},
   "outputs": [
    {
     "name": "stdout",
     "output_type": "stream",
     "text": [
      "Letters: 6\n",
      "Digits: 2\n"
     ]
    }
   ],
   "source": [
    "str = \"Python 3.2 \"\n",
    "digit=letter=0\n",
    "for ch in str:\n",
    "   if ch.isdigit():\n",
    "      digit=digit+1\n",
    "   elif ch.isalpha():\n",
    "      letter=letter+1\n",
    "   else:\n",
    "      pass\n",
    "print(\"Letters:\", letter)\n",
    "print(\"Digits:\", digit)"
   ]
  },
  {
   "cell_type": "markdown",
   "id": "3bf1d20d",
   "metadata": {},
   "source": [
    "# 8)\tWrite a Python program to check whether an alphabet is a vowel or consonant. \n",
    "Expected Output:\n",
    "Input a letter of the alphabet: k                                       \n",
    "k is a consonant."
   ]
  },
  {
   "cell_type": "code",
   "execution_count": 14,
   "id": "3a13674a",
   "metadata": {},
   "outputs": [
    {
     "name": "stdout",
     "output_type": "stream",
     "text": [
      "Input a letter of the alphabet: k\n",
      "k is a consonant.\n"
     ]
    }
   ],
   "source": [
    "l = input(\"Input a letter of the alphabet: \")\n",
    "\n",
    "if l in ('a', 'e', 'i', 'o', 'u'):\n",
    " print(\"%s is a vowel.\" % l)\n",
    "elif l == 'y':\n",
    " print(\"Sometimes letter y stand for vowel, sometimes stand for consonant.\")\n",
    "else:\n",
    " print(\"%s is a consonant.\" % l) "
   ]
  },
  {
   "cell_type": "markdown",
   "id": "701cd90f",
   "metadata": {},
   "source": [
    "# 9)\tWrite a Python program to check a triangle is equilateral, isosceles or scalene. Go to the editor\n",
    "Note :\n",
    "An equilateral triangle is a triangle in which all three sides are equal.\n",
    "A scalene triangle is a triangle that has three unequal sides.\n",
    "An isosceles triangle is a triangle with (at least) two equal sides.\n",
    "Expected Output:\n",
    "Input lengths of the triangle sides:                                    \n",
    "x: 6                                                                    \n",
    "y: 8                                                                    \n",
    "z: 12                                                                   \n",
    "Scalene triangle \n"
   ]
  },
  {
   "cell_type": "code",
   "execution_count": 15,
   "id": "e57f6a90",
   "metadata": {},
   "outputs": [
    {
     "name": "stdout",
     "output_type": "stream",
     "text": [
      "Input lengths of the triangle sides: \n",
      "x: 3\n",
      "y: 4\n",
      "z: 2\n",
      "Scalene triangle\n"
     ]
    }
   ],
   "source": [
    "print(\"Input lengths of the triangle sides: \")\n",
    "x = int(input(\"x: \"))\n",
    "y = int(input(\"y: \"))\n",
    "z = int(input(\"z: \"))\n",
    "\n",
    "if x == y == z:\n",
    "\tprint(\"Equilateral triangle\")\n",
    "elif x==y or y==z or z==x:\n",
    "\tprint(\"isosceles triangle\")\n",
    "else:\n",
    "\tprint(\"Scalene triangle\")"
   ]
  },
  {
   "cell_type": "markdown",
   "id": "29b5f1d2",
   "metadata": {},
   "source": [
    "# 10)\tWrite an If elif else condition for finding the largest number in 3 numbers."
   ]
  },
  {
   "cell_type": "code",
   "execution_count": 20,
   "id": "02869a60",
   "metadata": {},
   "outputs": [
    {
     "name": "stdout",
     "output_type": "stream",
     "text": [
      "\n",
      "Enter 1st number : 100\n",
      "\n",
      "Enter 2nd number : 010\n",
      "\n",
      "Enter 3rd number : 001\n",
      "The largest number is 100\n"
     ]
    }
   ],
   "source": [
    "# Take 3 numbers from user\n",
    "num1 = int(input(\"\\nEnter 1st number : \"))\n",
    "\n",
    "num2 = int(input(\"\\nEnter 2nd number : \"))\n",
    "\n",
    "num3 = int(input(\"\\nEnter 3rd number : \"))\n",
    "\n",
    "# Check fro number 1, 2 and 3.\n",
    "if (num1 > num2) and (num1 > num3):\n",
    "    largest = num1\n",
    "elif (num2 > num1) and (num2 > num3):\n",
    "    largest = num2\n",
    "else:\n",
    "    largest = num3\n",
    "\n",
    "print(\"The largest number is\", largest)"
   ]
  }
 ],
 "metadata": {
  "kernelspec": {
   "display_name": "Python 3 (ipykernel)",
   "language": "python",
   "name": "python3"
  },
  "language_info": {
   "codemirror_mode": {
    "name": "ipython",
    "version": 3
   },
   "file_extension": ".py",
   "mimetype": "text/x-python",
   "name": "python",
   "nbconvert_exporter": "python",
   "pygments_lexer": "ipython3",
   "version": "3.9.7"
  }
 },
 "nbformat": 4,
 "nbformat_minor": 5
}
